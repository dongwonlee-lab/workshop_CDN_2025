{
 "cells": [
  {
   "cell_type": "markdown",
   "id": "f3515505-5991-4e8c-8ebc-f4e9ff271594",
   "metadata": {},
   "source": [
    "## Session2. Generate single cell feature matrix"
   ]
  },
  {
   "cell_type": "markdown",
   "id": "873f0f96-d70f-4f96-b0cf-03fef484ff10",
   "metadata": {},
   "source": [
    "### All commands are intended for a Linux environment.\n",
    "If you're using Windows or macOS, please access a Linux server or set up a virtual machine"
   ]
  },
  {
   "cell_type": "markdown",
   "id": "c2d109a0-9e08-44e3-b601-0cdd0d377ecb",
   "metadata": {},
   "source": [
    "### Purpose of cellranger-arc count\n",
    "- Aligns sequencing reads (GEX + ATAC) to the reference genome\n",
    "- Quantifies gene expression and chromatin accessibility\n",
    "- Generates a single-cell feature matrix for both modalities\n",
    "- Produces outputs compatible with downstream tools like Seurat, Signac, or ArchR\n",
    "\n",
    "cellranger-arc count is a command-line tool developed by 10x Genomics for processing multiome (scRNA-seq + scATAC-seq) data generated with the Chromium Single Cell Multiome platform. This step produces gene expression and chromatin accessibility data aligned to a reference genome.\n"
   ]
  },
  {
   "cell_type": "markdown",
   "id": "348dfc8f-572e-4afa-939d-2634683bd91b",
   "metadata": {},
   "source": [
    "### Step1. Downloading Inputs & Installing cellranger-arc "
   ]
  },
  {
   "cell_type": "markdown",
   "id": "b140ce39-743f-4575-a86e-7623ed6cfe3c",
   "metadata": {},
   "source": [
    "### Step1-1. Downloading fastq files"
   ]
  },
  {
   "cell_type": "markdown",
   "id": "613dc44e-b05b-4bfa-9ed8-f3957b3af615",
   "metadata": {},
   "source": [
    "##### Download fastq and csv files \n",
    "##### (The dataset is large (over 100GB). Please ensure you have sufficient disk space before attempting to retrieve the full dataset!!!!)\n"
   ]
  },
  {
   "cell_type": "markdown",
   "id": "48ed029c-2a6c-46d6-bea4-e651b8b6d692",
   "metadata": {},
   "source": [
    "wget https://s3-us-west-2.amazonaws.com/10x.files/samples/cell-arc/2.0.0/pbmc_unsorted_10k/pbmc_unsorted_10k_fastqs.tar\n",
    "\n",
    "wget https://cf.10xgenomics.com/samples/cell-arc/2.0.0/pbmc_unsorted_10k/pbmc_unsorted_10k_library.csv\n"
   ]
  },
  {
   "cell_type": "markdown",
   "id": "f2ae5dcc-0439-4a42-8f56-a1da7e7c1e87",
   "metadata": {},
   "source": [
    "##### List files in data directory"
   ]
  },
  {
   "cell_type": "code",
   "execution_count": 2,
   "id": "72724397-5f8a-47c9-babb-90e592be6fbd",
   "metadata": {},
   "outputs": [
    {
     "name": "stdout",
     "output_type": "stream",
     "text": [
      "02.workshop_session.ipynb\n",
      "\u001b[0m\u001b[38;5;9m10k_PBMC_Multiome_nextgem_Chromium_Controller_fastqs.tar\u001b[0m\n",
      "\u001b[38;5;9mpbmc_unsorted_10k_fastqs.tar\u001b[0m\n"
     ]
    }
   ],
   "source": [
    "ls"
   ]
  },
  {
   "cell_type": "markdown",
   "id": "d1f01a8a-9fd6-4cfc-8d56-945468d4510e",
   "metadata": {},
   "source": [
    "##### Unpack the TAR archive to retrieve the dataset files"
   ]
  },
  {
   "cell_type": "code",
   "execution_count": 3,
   "id": "6239574b-3edf-4289-87e0-d35d21723079",
   "metadata": {},
   "outputs": [],
   "source": [
    "tar -xf pbmc_unsorted_10k_fastqs.tar"
   ]
  },
  {
   "cell_type": "code",
   "execution_count": 5,
   "id": "8ed0e859-8009-468c-aebe-93224b50657d",
   "metadata": {},
   "outputs": [],
   "source": [
    "tar -xf 10k_PBMC_Multiome_nextgem_Chromium_Controller_fastqs.tar"
   ]
  },
  {
   "cell_type": "markdown",
   "id": "631efcad-4d5b-422e-b7a1-525f0836b5d8",
   "metadata": {},
   "source": [
    "##### List files and folders in data directory"
   ]
  },
  {
   "cell_type": "code",
   "execution_count": 2,
   "id": "a1139758-e182-4922-a0da-05831299ea66",
   "metadata": {},
   "outputs": [
    {
     "name": "stdout",
     "output_type": "stream",
     "text": [
      "02.workshop_session.ipynb\n",
      "\u001b[0m\u001b[38;5;33m10k_PBMC_Multiome_nextgem_Chromium_Controller_fastqs\u001b[0m\n",
      "\u001b[38;5;9m10k_PBMC_Multiome_nextgem_Chromium_Controller_fastqs.tar\u001b[0m\n",
      "\u001b[38;5;33mpbmc_unsorted_10k\u001b[0m\n",
      "\u001b[38;5;9mpbmc_unsorted_10k_fastqs.tar\u001b[0m\n"
     ]
    }
   ],
   "source": [
    "ls"
   ]
  },
  {
   "cell_type": "markdown",
   "id": "90596546-3afb-4467-9f11-0d3928991e55",
   "metadata": {},
   "source": [
    "##### Change Working Directory"
   ]
  },
  {
   "cell_type": "code",
   "execution_count": 3,
   "id": "8ab220fd-5d97-46dd-b730-62b06ffc064b",
   "metadata": {},
   "outputs": [],
   "source": [
    "cd pbmc_unsorted_10k"
   ]
  },
  {
   "cell_type": "code",
   "execution_count": 5,
   "id": "de10d7ae-2d79-42f2-b782-6af11551dfea",
   "metadata": {},
   "outputs": [
    {
     "name": "stdout",
     "output_type": "stream",
     "text": [
      "\u001b[0m\u001b[38;5;33matac\u001b[0m  \u001b[38;5;33mgex\u001b[0m\n"
     ]
    }
   ],
   "source": [
    "# List files and folders in data directory\n",
    "ls"
   ]
  },
  {
   "cell_type": "code",
   "execution_count": 6,
   "id": "555d06db-807d-455b-a620-d9605628ad38",
   "metadata": {},
   "outputs": [],
   "source": [
    "cd atac"
   ]
  },
  {
   "cell_type": "markdown",
   "id": "fdf3b0b4-7f31-4318-99ea-34006e27d77b",
   "metadata": {},
   "source": [
    "##### List all ATAC-seq FASTQ files located in the atac directory"
   ]
  },
  {
   "cell_type": "code",
   "execution_count": 7,
   "id": "593fd643-e1f1-4370-a405-f35e35279002",
   "metadata": {},
   "outputs": [
    {
     "name": "stdout",
     "output_type": "stream",
     "text": [
      "\u001b[0m\u001b[38;5;9mpbmc_unsorted_10k_S7_L001_I1_001.fastq.gz\u001b[0m\n",
      "\u001b[38;5;9mpbmc_unsorted_10k_S7_L001_R1_001.fastq.gz\u001b[0m\n",
      "\u001b[38;5;9mpbmc_unsorted_10k_S7_L001_R2_001.fastq.gz\u001b[0m\n",
      "\u001b[38;5;9mpbmc_unsorted_10k_S7_L001_R3_001.fastq.gz\u001b[0m\n",
      "\u001b[38;5;9mpbmc_unsorted_10k_S7_L002_I1_001.fastq.gz\u001b[0m\n",
      "\u001b[38;5;9mpbmc_unsorted_10k_S7_L002_R1_001.fastq.gz\u001b[0m\n",
      "\u001b[38;5;9mpbmc_unsorted_10k_S7_L002_R2_001.fastq.gz\u001b[0m\n",
      "\u001b[38;5;9mpbmc_unsorted_10k_S7_L002_R3_001.fastq.gz\u001b[0m\n",
      "\u001b[38;5;9mpbmc_unsorted_10k_S7_L003_I1_001.fastq.gz\u001b[0m\n",
      "\u001b[38;5;9mpbmc_unsorted_10k_S7_L003_R1_001.fastq.gz\u001b[0m\n",
      "\u001b[38;5;9mpbmc_unsorted_10k_S7_L003_R2_001.fastq.gz\u001b[0m\n",
      "\u001b[38;5;9mpbmc_unsorted_10k_S7_L003_R3_001.fastq.gz\u001b[0m\n",
      "\u001b[38;5;9mpbmc_unsorted_10k_S7_L004_I1_001.fastq.gz\u001b[0m\n",
      "\u001b[38;5;9mpbmc_unsorted_10k_S7_L004_R1_001.fastq.gz\u001b[0m\n",
      "\u001b[38;5;9mpbmc_unsorted_10k_S7_L004_R2_001.fastq.gz\u001b[0m\n",
      "\u001b[38;5;9mpbmc_unsorted_10k_S7_L004_R3_001.fastq.gz\u001b[0m\n"
     ]
    }
   ],
   "source": [
    "ls"
   ]
  },
  {
   "cell_type": "code",
   "execution_count": 8,
   "id": "80db2102-193f-4d16-bd38-31c8d7d2151e",
   "metadata": {},
   "outputs": [],
   "source": [
    "cd ..\n",
    "cd gex"
   ]
  },
  {
   "cell_type": "markdown",
   "id": "289bb3b2-3aff-4970-aad5-59fa2dfaa096",
   "metadata": {},
   "source": [
    "##### List all RNA-seq FASTQ files located in the gex directory"
   ]
  },
  {
   "cell_type": "code",
   "execution_count": 9,
   "id": "b0288152-481b-475a-a62f-b2c7d65dbee4",
   "metadata": {},
   "outputs": [
    {
     "name": "stdout",
     "output_type": "stream",
     "text": [
      "\u001b[0m\u001b[38;5;9mpbmc_unsorted_10k_S1_L003_I1_001.fastq.gz\u001b[0m\n",
      "\u001b[38;5;9mpbmc_unsorted_10k_S1_L003_I2_001.fastq.gz\u001b[0m\n",
      "\u001b[38;5;9mpbmc_unsorted_10k_S1_L003_R1_001.fastq.gz\u001b[0m\n",
      "\u001b[38;5;9mpbmc_unsorted_10k_S1_L003_R2_001.fastq.gz\u001b[0m\n",
      "\u001b[38;5;9mpbmc_unsorted_10k_S1_L004_I1_001.fastq.gz\u001b[0m\n",
      "\u001b[38;5;9mpbmc_unsorted_10k_S1_L004_I2_001.fastq.gz\u001b[0m\n",
      "\u001b[38;5;9mpbmc_unsorted_10k_S1_L004_R1_001.fastq.gz\u001b[0m\n",
      "\u001b[38;5;9mpbmc_unsorted_10k_S1_L004_R2_001.fastq.gz\u001b[0m\n"
     ]
    }
   ],
   "source": [
    "ls"
   ]
  },
  {
   "cell_type": "code",
   "execution_count": 10,
   "id": "5c9d0d2b-9991-4dc0-a17c-db044e8a2c1c",
   "metadata": {},
   "outputs": [],
   "source": [
    "cd ../.."
   ]
  },
  {
   "cell_type": "code",
   "execution_count": 11,
   "id": "a70c5adc-16e5-419f-b199-b24530ee3c44",
   "metadata": {},
   "outputs": [
    {
     "name": "stdout",
     "output_type": "stream",
     "text": [
      "02.workshop_session.ipynb\n",
      "\u001b[0m\u001b[38;5;33m10k_PBMC_Multiome_nextgem_Chromium_Controller_fastqs\u001b[0m\n",
      "\u001b[38;5;9m10k_PBMC_Multiome_nextgem_Chromium_Controller_fastqs.tar\u001b[0m\n",
      "\u001b[38;5;33mpbmc_unsorted_10k\u001b[0m\n",
      "\u001b[38;5;9mpbmc_unsorted_10k_fastqs.tar\u001b[0m\n"
     ]
    }
   ],
   "source": [
    "ls"
   ]
  },
  {
   "cell_type": "markdown",
   "id": "6c1629cc-29e5-4488-a061-f4ce7c3436be",
   "metadata": {},
   "source": [
    "### Step1-2. Installing cellranger-arc "
   ]
  },
  {
   "cell_type": "markdown",
   "id": "4bf00041-57b0-4eaa-b983-9db96dfba699",
   "metadata": {},
   "source": [
    "wget -O cellranger-arc-2.0.2.tar.gz \"https://cf.10xgenomics.com/releases/cell-arc/cellranger-arc-2.0.2.tar.gz?Expires=1747986817&Key-Pair-Id=APKAI7S6A5RYOXBWRPDA&Signature=kUY12F2QnsCeSjyqQHRK3p3RI7YfZrCFPbb7tLyul4LW0dq-6RARI~kEDdm7Q9pqEWnESLaWmGWsk2fFFyUS-FtqlPvKiD-w9KRGu68rUN~Vy~criRJcY9hG5bmTOu00~z9gPEBNrKYA-UOYpbj2U8RI0sYPgshSOjG4ifUKC~t2S0G3sfOjtJpSm35Fm0vve0xVrfBtr85PHoT24z8f5XVrxtygjxLQmSj2HXE3LMwtuqS6KKfPDjyfmyM~-vVzv7fYI0PJlgS8NSMVsHldDaGhMAztWb6bCXKkthrOE1Ywt9rYQnMwGQ1Q6Hf~yGsDSKaLCsy4VvT5LcKVXjfaDw__\"\n",
    "\n",
    "wget \"https://cf.10xgenomics.com/supp/cell-arc/refdata-cellranger-arc-GRCh38-2024-A.tar.gz\"\n"
   ]
  },
  {
   "cell_type": "markdown",
   "id": "5f82a9fa-98e8-41b5-aaf0-283d219aee16",
   "metadata": {},
   "source": [
    "##### Unpack the TAR archive"
   ]
  },
  {
   "cell_type": "markdown",
   "id": "3792ce39-2ccf-4824-bd47-9dcfc1daab51",
   "metadata": {},
   "source": [
    "tar -xzf cellranger-arc-2.0.2.tar.gz\n",
    "tar -xzf refdata-cellranger-arc-GRCh38-2024-A.tar.gz "
   ]
  },
  {
   "cell_type": "code",
   "execution_count": 14,
   "id": "faa784a7-3d3b-49fb-b51a-d6402c90aaa4",
   "metadata": {},
   "outputs": [
    {
     "name": "stdout",
     "output_type": "stream",
     "text": [
      "02.workshop_session.ipynb\n",
      "\u001b[0m\u001b[38;5;33m10k_PBMC_Multiome_nextgem_Chromium_Controller_fastqs\u001b[0m\n",
      "\u001b[38;5;9m10k_PBMC_Multiome_nextgem_Chromium_Controller_fastqs.tar\u001b[0m\n",
      "\u001b[38;5;33mcellranger-arc-2.0.2\u001b[0m\n",
      "\u001b[38;5;9mcellranger-arc-2.0.2.tar.gz\u001b[0m\n",
      "\u001b[38;5;33mpbmc_unsorted_10k\u001b[0m\n",
      "\u001b[38;5;9mpbmc_unsorted_10k_fastqs.tar\u001b[0m\n",
      "\u001b[38;5;33mrefdata-cellranger-arc-GRCh38-2024-A\u001b[0m\n",
      "\u001b[38;5;9mrefdata-cellranger-arc-GRCh38-2024-A.tar.gz\u001b[0m\n"
     ]
    }
   ],
   "source": [
    "# List files and folders in the directory\n",
    "ls"
   ]
  },
  {
   "cell_type": "code",
   "execution_count": 15,
   "id": "e2db6f00-36be-46ca-831d-c59c8d5452b5",
   "metadata": {},
   "outputs": [],
   "source": [
    "cd cellranger-arc-2.0.2"
   ]
  },
  {
   "cell_type": "code",
   "execution_count": 16,
   "id": "501354d7-58c0-4fe7-9d80-d38679ea293d",
   "metadata": {},
   "outputs": [
    {
     "name": "stdout",
     "output_type": "stream",
     "text": [
      "LICENSE  builtwith.json  \u001b[0m\u001b[38;5;33mexternal\u001b[0m  \u001b[38;5;33mmro\u001b[0m            sourceme.csh\n",
      "\u001b[38;5;33mbin\u001b[0m      \u001b[38;5;51mcellranger-arc\u001b[0m  \u001b[38;5;33mlib\u001b[0m       sourceme.bash\n"
     ]
    }
   ],
   "source": [
    "ls"
   ]
  },
  {
   "cell_type": "code",
   "execution_count": 17,
   "id": "aff12a96-5cb4-4475-b653-e696e6fe2d45",
   "metadata": {},
   "outputs": [],
   "source": [
    "cd .."
   ]
  },
  {
   "cell_type": "markdown",
   "id": "9fa66f4f-228e-4238-83b5-f13082324f82",
   "metadata": {},
   "source": [
    "### Step2. Create a libraries CSV file"
   ]
  },
  {
   "attachments": {
    "d36fc0a6-ccd6-472a-abf9-b7c803448a79.png": {
     "image/png": "[encoded data removed]"
    }
   },
   "cell_type": "markdown",
   "id": "4017384f-58c7-4563-8e77-dfebde13dd45",
   "metadata": {},
   "source": [
    "![그림7.png](attachment:d36fc0a6-ccd6-472a-abf9-b7c803448a79.png)"
   ]
  },
  {
   "cell_type": "markdown",
   "id": "65660522-f0f7-4cdf-9cb4-fde6cb676513",
   "metadata": {},
   "source": [
    "##### Check library file from Cell ranger"
   ]
  },
  {
   "cell_type": "code",
   "execution_count": 19,
   "id": "a07107d1-276d-4fd9-8d72-5f8a34e185db",
   "metadata": {},
   "outputs": [
    {
     "name": "stdout",
     "output_type": "stream",
     "text": [
      "fastqs,sample,library_type\n",
      "/path/to/fastqs/pbmc_unsorted_10k/gex,pbmc_unsorted_10k,Gene Expression\n",
      "/path/to/fastqs/pbmc_unsorted_10k/atac,pbmc_unsorted_10k,Chromatin Accessibility\n"
     ]
    }
   ],
   "source": [
    "cat pbmc_unsorted_10k_library.csv"
   ]
  },
  {
   "cell_type": "markdown",
   "id": "a7f50244-7414-4fd3-b34a-77a77828ae7a",
   "metadata": {},
   "source": [
    "##### Print curent working directory"
   ]
  },
  {
   "cell_type": "code",
   "execution_count": 20,
   "id": "58f32587-0ff3-464d-ba56-bdaee35a4d77",
   "metadata": {},
   "outputs": [
    {
     "name": "stdout",
     "output_type": "stream",
     "text": [
      "/lab-share/Neph-Lee-e2/Public/gkim/workshop/raw_data\n"
     ]
    }
   ],
   "source": [
    "pwd"
   ]
  },
  {
   "cell_type": "code",
   "execution_count": 25,
   "id": "6e68820f-32f9-4fbe-8453-e63624d56a1d",
   "metadata": {},
   "outputs": [
    {
     "name": "stdout",
     "output_type": "stream",
     "text": [
      "02.workshop_session.ipynb\n",
      "\u001b[0m\u001b[38;5;33m10k_PBMC_Multiome_nextgem_Chromium_Controller_fastqs\u001b[0m\n",
      "\u001b[38;5;9m10k_PBMC_Multiome_nextgem_Chromium_Controller_fastqs.tar\u001b[0m\n",
      "\u001b[38;5;33mcellranger-arc-2.0.2\u001b[0m\n",
      "\u001b[38;5;9mcellranger-arc-2.0.2.tar.gz\u001b[0m\n",
      "\u001b[38;5;33mpbmc_unsorted_10k\u001b[0m\n",
      "\u001b[38;5;9mpbmc_unsorted_10k_fastqs.tar\u001b[0m\n",
      "pbmc_unsorted_10k_library.csv\n",
      "pbmc_unsorted_10k_library.csve\n",
      "\u001b[38;5;33mrefdata-cellranger-arc-GRCh38-2024-A\u001b[0m\n",
      "\u001b[38;5;9mrefdata-cellranger-arc-GRCh38-2024-A.tar.gz\u001b[0m\n"
     ]
    }
   ],
   "source": [
    "ls "
   ]
  },
  {
   "cell_type": "markdown",
   "id": "3c7d5c1e-f98f-47d8-9a3f-adcf667fd33b",
   "metadata": {},
   "source": [
    "##### Update the file path to match the correct FASTQ directory on your local system\n",
    "\n",
    "##### To perform a find-and-replace operation within a file using sed, use the following format:\n",
    "- command: sed -ie 's/[original_pattern]/[replacement_pattern]/' file_name\n",
    "- pattern: If your pattern contains a forward slash /, you must escape it with a backslash \\."
   ]
  },
  {
   "cell_type": "code",
   "execution_count": 23,
   "id": "1fe030b9-fb53-4b3f-9d95-0cea4850a4df",
   "metadata": {},
   "outputs": [],
   "source": [
    "sed -ie 's/\\/path\\/to\\/fastqs/\\/lab-share\\/Neph-Lee-e2\\/Public\\/gkim\\/workshop\\/raw_data/' pbmc_unsorted_10k_library.csv"
   ]
  },
  {
   "cell_type": "markdown",
   "id": "ab645add-10bd-4cb6-9fff-cbbae0268bb3",
   "metadata": {},
   "source": [
    "##### Check that each path listed in the libraries.csv file matches the actual location of your FASTQ files"
   ]
  },
  {
   "cell_type": "code",
   "execution_count": 24,
   "id": "e657dfe9-e51e-46c0-9c47-a572714cbc23",
   "metadata": {},
   "outputs": [
    {
     "name": "stdout",
     "output_type": "stream",
     "text": [
      "fastqs,sample,library_type\n",
      "/lab-share/Neph-Lee-e2/Public/gkim/workshop/raw_data/pbmc_unsorted_10k/gex,pbmc_unsorted_10k,Gene Expression\n",
      "/lab-share/Neph-Lee-e2/Public/gkim/workshop/raw_data/pbmc_unsorted_10k/atac,pbmc_unsorted_10k,Chromatin Accessibility\n"
     ]
    }
   ],
   "source": [
    "cat pbmc_unsorted_10k_library.csv"
   ]
  },
  {
   "cell_type": "markdown",
   "id": "fa8d9a7b-bf83-4478-9340-e27c993e19f4",
   "metadata": {},
   "source": [
    "### Step3. Run cellranger-arc count"
   ]
  },
  {
   "cell_type": "code",
   "execution_count": null,
   "id": "af8fe482-e34a-458b-b167-003b9936399a",
   "metadata": {},
   "outputs": [],
   "source": [
    "cellranger-arc-2.0.2/cellranger-arc count \\\n",
    "                       --id=example_1 \\\n",
    "                       --reference=refdata-cellranger-arc-GRCh38-2024-A \\\n",
    "                       --libraries=pbmc_unsorted_10k_library.csv\n",
    "\n"
   ]
  }
 ],
 "metadata": {
  "kernelspec": {
   "display_name": "Python 3 (ipykernel)",
   "language": "python",
   "name": "python3"
  },
  "language_info": {
   "codemirror_mode": {
    "name": "ipython",
    "version": 3
   },
   "file_extension": ".py",
   "mimetype": "text/x-python",
   "name": "python",
   "nbconvert_exporter": "python",
   "pygments_lexer": "ipython3",
   "version": "3.10.16"
  }
 },
 "nbformat": 4,
 "nbformat_minor": 5
}
